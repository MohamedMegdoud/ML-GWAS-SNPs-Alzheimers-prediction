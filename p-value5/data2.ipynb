{
 "cells": [
  {
   "cell_type": "code",
   "execution_count": 1,
   "id": "e250b4a7",
   "metadata": {},
   "outputs": [
    {
     "name": "stdout",
     "output_type": "stream",
     "text": [
      "['rs8077028_T', 'rs2244526_T', 'rs17022021_T', 'rs1034435_A', 'rs4760243_A']\n"
     ]
    }
   ],
   "source": [
    "# open gwas_clean_riskAllele_ids_with_beta8.txt and read each line and split it into a list\n",
    "with open('snp_with_pvalue5.txt') as f:\n",
    "    columns = []\n",
    "    for line in f:\n",
    "        # split the line into a list and append it to the columns list\n",
    "        columns.append(line.strip().split())\n",
    "# flatten the list of lists into a single list\n",
    "p_value5_id = [item for sublist in columns for item in sublist]\n",
    "# print the first 5 columns\n",
    "print(p_value5_id[:5])"
   ]
  },
  {
   "cell_type": "code",
   "execution_count": 2,
   "id": "f0306833",
   "metadata": {},
   "outputs": [],
   "source": [
    "import pandas as pd\n"
   ]
  },
  {
   "cell_type": "code",
   "execution_count": 3,
   "id": "4557b22b",
   "metadata": {},
   "outputs": [
    {
     "name": "stderr",
     "output_type": "stream",
     "text": [
      "/tmp/ipykernel_6000/738370358.py:1: FutureWarning: The 'delim_whitespace' keyword in pd.read_csv is deprecated and will be removed in a future version. Use ``sep='\\s+'`` instead\n",
      "  data_with_no_filtering = pd.read_csv('../adni_full.raw', delim_whitespace=True, usecols= lambda x: not x.endswith('.'), nrows=5)\n"
     ]
    }
   ],
   "source": [
    "data_with_no_filtering = pd.read_csv('../adni_full.raw', delim_whitespace=True, usecols= lambda x: not x.endswith('.'), nrows=5)"
   ]
  },
  {
   "cell_type": "code",
   "execution_count": 4,
   "id": "cf6d3175",
   "metadata": {},
   "outputs": [
    {
     "data": {
      "text/plain": [
       "592538"
      ]
     },
     "execution_count": 4,
     "metadata": {},
     "output_type": "execute_result"
    }
   ],
   "source": [
    "len(data_with_no_filtering.columns)"
   ]
  },
  {
   "cell_type": "code",
   "execution_count": 5,
   "id": "ce1854be",
   "metadata": {},
   "outputs": [
    {
     "name": "stdout",
     "output_type": "stream",
     "text": [
      "rs4255357_G is in the list\n",
      "rs2970989_T is in the list\n",
      "rs1552244_A is in the list\n",
      "rs17022021_T is in the list\n",
      "rs9832461_A is in the list\n",
      "rs17785248_A is in the list\n",
      "rs4974424_A is in the list\n",
      "rs1923775_T is in the list\n",
      "rs1448284_T is in the list\n",
      "rs10012882_T is in the list\n",
      "rs13178362_T is in the list\n",
      "rs29745_A is in the list\n",
      "rs6882046_A is in the list\n",
      "rs543844_A is in the list\n",
      "rs9381563_T is in the list\n",
      "rs2718058_A is in the list\n",
      "rs11771145_G is in the list\n",
      "rs7016182_C is in the list\n",
      "rs956225_A is in the list\n",
      "rs474951_T is in the list\n",
      "rs7155434_A is in the list\n",
      "rs10498633_G is in the list\n",
      "rs2456930_G is in the list\n",
      "rs8049439_T is in the list\n",
      "rs450674_T is in the list\n",
      "rs16973424_A is in the list\n",
      "rs440277_G is in the list\n",
      "rs8106922_A is in the list\n",
      "rs5167_T is in the list\n",
      "['rs4255357_G', 'rs2970989_T', 'rs1552244_A', 'rs17022021_T', 'rs9832461_A', 'rs17785248_A', 'rs4974424_A', 'rs1923775_T', 'rs1448284_T', 'rs10012882_T', 'rs13178362_T', 'rs29745_A', 'rs6882046_A', 'rs543844_A', 'rs9381563_T', 'rs2718058_A', 'rs11771145_G', 'rs7016182_C', 'rs956225_A', 'rs474951_T', 'rs7155434_A', 'rs10498633_G', 'rs2456930_G', 'rs8049439_T', 'rs450674_T', 'rs16973424_A', 'rs440277_G', 'rs8106922_A', 'rs5167_T']\n"
     ]
    }
   ],
   "source": [
    "id_of_pvalue5 = []\n",
    "for col in data_with_no_filtering.columns:\n",
    "    if col in p_value5_id:\n",
    "        print(col, \"is in the list\")\n",
    "        id_of_pvalue5.append(col)\n",
    "print(id_of_pvalue5)\n"
   ]
  },
  {
   "cell_type": "code",
   "execution_count": 6,
   "id": "8bd75278",
   "metadata": {},
   "outputs": [
    {
     "name": "stderr",
     "output_type": "stream",
     "text": [
      "/tmp/ipykernel_6000/1183739696.py:8: FutureWarning: The 'delim_whitespace' keyword in pd.read_csv is deprecated and will be removed in a future version. Use ``sep='\\s+'`` instead\n",
      "  data_with_filtering = pd.read_csv('../adni_full.raw', delim_whitespace=True, usecols=columns_to_use)\n"
     ]
    }
   ],
   "source": [
    "# read the data again with the selected columns and first 6 columns of data and first 5 rows\n",
    "metadata_cols = ['FID', 'IID', 'PAT', 'MAT', 'SEX','PHENOTYPE']\n",
    "\n",
    "# Combine metadata columns with your filtered SNP rsIDs\n",
    "columns_to_use = metadata_cols + id_of_pvalue5\n",
    "\n",
    "# Read only those columns (first 5 + selected SNPs) and first 5 rows\n",
    "data_with_filtering = pd.read_csv('../adni_full.raw', delim_whitespace=True, usecols=columns_to_use)\n"
   ]
  },
  {
   "cell_type": "code",
   "execution_count": 7,
   "id": "9cd9667b",
   "metadata": {},
   "outputs": [
    {
     "name": "stdout",
     "output_type": "stream",
     "text": [
      "Missing values in each column:\n",
      "FID             0\n",
      "IID             0\n",
      "PAT             0\n",
      "MAT             0\n",
      "SEX             0\n",
      "PHENOTYPE       0\n",
      "rs4255357_G     7\n",
      "rs2970989_T     0\n",
      "rs1552244_A     0\n",
      "rs17022021_T    0\n",
      "rs9832461_A     0\n",
      "rs17785248_A    4\n",
      "rs4974424_A     2\n",
      "rs1923775_T     0\n",
      "rs1448284_T     0\n",
      "rs10012882_T    2\n",
      "rs13178362_T    1\n",
      "rs29745_A       1\n",
      "rs6882046_A     2\n",
      "rs543844_A      0\n",
      "rs9381563_T     9\n",
      "rs2718058_A     1\n",
      "rs11771145_G    0\n",
      "rs7016182_C     0\n",
      "rs956225_A      0\n",
      "rs474951_T      1\n",
      "rs7155434_A     2\n",
      "rs10498633_G    0\n",
      "rs2456930_G     1\n",
      "rs8049439_T     0\n",
      "rs450674_T      0\n",
      "rs16973424_A    1\n",
      "rs440277_G      0\n",
      "rs8106922_A     0\n",
      "rs5167_T        0\n",
      "dtype: int64\n"
     ]
    }
   ],
   "source": [
    "#caclulate missing values of every column\n",
    "missing_values = data_with_filtering.isnull().sum()\n",
    "# Print the missing values\n",
    "print(\"Missing values in each column:\")\n",
    "print(missing_values)\n",
    "#see the minimum and median and maximum of the data\n"
   ]
  },
  {
   "cell_type": "code",
   "execution_count": 10,
   "id": "3a92b13d",
   "metadata": {},
   "outputs": [
    {
     "name": "stderr",
     "output_type": "stream",
     "text": [
      "/tmp/ipykernel_6000/151881563.py:2: DtypeWarning: Columns (19,20,21,50,51,104,105,106) have mixed types. Specify dtype option on import or set low_memory=False.\n",
      "  adni_merge = pd.read_csv('../ADNIMERGE_11May2025.csv')\n"
     ]
    }
   ],
   "source": [
    "# Load ADNIMERGE\n",
    "adni_merge = pd.read_csv('../ADNIMERGE_11May2025.csv')\n",
    "\n",
    "# Keep only baseline DX information\n",
    "adni_dx = adni_merge[adni_merge['VISCODE'] == 'bl'][['RID', 'DX']]\n",
    "\n",
    "# Extract RID (subject ID) from IID (e.g., '014_S_0520' → 520)\n",
    "data_with_filtering['RID'] = data_with_filtering['IID'].str.extract(r'_(\\d+)$').astype(float).astype(int)\n",
    "\n",
    "# Merge DX info\n",
    "data_with_filtering = pd.merge(data_with_filtering, adni_dx, on='RID', how='left')\n"
   ]
  },
  {
   "cell_type": "code",
   "execution_count": 11,
   "id": "49b5673e",
   "metadata": {},
   "outputs": [
    {
     "name": "stdout",
     "output_type": "stream",
     "text": [
      "Index(['FID', 'IID', 'PAT', 'MAT', 'SEX', 'PHENOTYPE', 'rs4255357_G',\n",
      "       'rs2970989_T', 'rs1552244_A', 'rs17022021_T', 'rs9832461_A',\n",
      "       'rs17785248_A', 'rs4974424_A', 'rs1923775_T', 'rs1448284_T',\n",
      "       'rs10012882_T', 'rs13178362_T', 'rs29745_A', 'rs6882046_A',\n",
      "       'rs543844_A', 'rs9381563_T', 'rs2718058_A', 'rs11771145_G',\n",
      "       'rs7016182_C', 'rs956225_A', 'rs474951_T', 'rs7155434_A',\n",
      "       'rs10498633_G', 'rs2456930_G', 'rs8049439_T', 'rs450674_T',\n",
      "       'rs16973424_A', 'rs440277_G', 'rs8106922_A', 'rs5167_T', 'RID', 'DX'],\n",
      "      dtype='object')\n"
     ]
    }
   ],
   "source": [
    "print(data_with_filtering.columns)\n"
   ]
  },
  {
   "cell_type": "code",
   "execution_count": null,
   "id": "f69fd3d1",
   "metadata": {},
   "outputs": [],
   "source": [
    "columns_to_remove = ['FID', 'IID', 'PAT', 'MAT','SEX', 'PHENOTYPE', 'RID']  # Adjust the list based on your data\n",
    "\n",
    "# Drop the specified columns\n",
    "data_cleaned_with_just_dx_and_snp = data_with_filtering.drop(columns=columns_to_remove)\n",
    "#convert data_cleaned_with_just_dx_and_snp to file"
   ]
  }
 ],
 "metadata": {
  "kernelspec": {
   "display_name": "base",
   "language": "python",
   "name": "python3"
  },
  "language_info": {
   "codemirror_mode": {
    "name": "ipython",
    "version": 3
   },
   "file_extension": ".py",
   "mimetype": "text/x-python",
   "name": "python",
   "nbconvert_exporter": "python",
   "pygments_lexer": "ipython3",
   "version": "3.12.7"
  }
 },
 "nbformat": 4,
 "nbformat_minor": 5
}
