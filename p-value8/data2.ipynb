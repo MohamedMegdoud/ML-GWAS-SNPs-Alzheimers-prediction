{
 "cells": [
  {
   "cell_type": "code",
   "execution_count": 1,
   "id": "e250b4a7",
   "metadata": {},
   "outputs": [
    {
     "name": "stdout",
     "output_type": "stream",
     "text": [
      "['rs143332484_T', 'rs616338_T', 'rs75932628_T', 'rs139967528_G', 'rs593742_A']\n"
     ]
    }
   ],
   "source": [
    "# open gwas_clean_riskAllele_ids_with_beta8.txt and read each line and split it into a list\n",
    "with open('snp_with_pvalue8.txt') as f:\n",
    "    columns = []\n",
    "    for line in f:\n",
    "        # split the line into a list and append it to the columns list\n",
    "        columns.append(line.strip().split())\n",
    "# flatten the list of lists into a single list\n",
    "columns = [item for sublist in columns for item in sublist]\n",
    "# print the first 5 columns\n",
    "print(columns[:5])"
   ]
  },
  {
   "cell_type": "code",
   "execution_count": null,
   "id": "f0306833",
   "metadata": {},
   "outputs": [],
   "source": [
    "import pandas as pd\n",
    "data = pd.read_csv('../adni_full.raw', delim_whitespace=True, usecols=columns, nrows=5)"
   ]
  },
  {
   "cell_type": "code",
   "execution_count": 4,
   "id": "4557b22b",
   "metadata": {},
   "outputs": [
    {
     "name": "stderr",
     "output_type": "stream",
     "text": [
      "/tmp/ipykernel_9263/2558506764.py:1: FutureWarning: The 'delim_whitespace' keyword in pd.read_csv is deprecated and will be removed in a future version. Use ``sep='\\s+'`` instead\n",
      "  data = pd.read_csv('../adni_full.raw', delim_whitespace=True, usecols= lambda x: not x.endswith('.'), nrows=5)\n"
     ]
    }
   ],
   "source": [
    "data = pd.read_csv('../adni_full.raw', delim_whitespace=True, usecols= lambda x: not x.endswith('.'), nrows=5)"
   ]
  },
  {
   "cell_type": "code",
   "execution_count": 6,
   "id": "cf6d3175",
   "metadata": {},
   "outputs": [
    {
     "data": {
      "text/plain": [
       "592538"
      ]
     },
     "execution_count": 6,
     "metadata": {},
     "output_type": "execute_result"
    }
   ],
   "source": [
    "len(data.columns)"
   ]
  },
  {
   "cell_type": "code",
   "execution_count": 7,
   "id": "ce1854be",
   "metadata": {},
   "outputs": [
    {
     "name": "stdout",
     "output_type": "stream",
     "text": [
      "rs6882046_A is in the list\n",
      "rs2718058_A is in the list\n",
      "rs11771145_G is in the list\n",
      "rs10498633_G is in the list\n",
      "rs8106922_A is in the list\n",
      "rs5167_T is in the list\n"
     ]
    }
   ],
   "source": [
    "for col in data.columns:\n",
    "    if col in columns:\n",
    "        print(col, \"is in the list\")"
   ]
  },
  {
   "cell_type": "code",
   "execution_count": null,
   "id": "8ca5aaa1",
   "metadata": {},
   "outputs": [],
   "source": []
  }
 ],
 "metadata": {
  "kernelspec": {
   "display_name": "base",
   "language": "python",
   "name": "python3"
  },
  "language_info": {
   "codemirror_mode": {
    "name": "ipython",
    "version": 3
   },
   "file_extension": ".py",
   "mimetype": "text/x-python",
   "name": "python",
   "nbconvert_exporter": "python",
   "pygments_lexer": "ipython3",
   "version": "3.12.7"
  }
 },
 "nbformat": 4,
 "nbformat_minor": 5
}
